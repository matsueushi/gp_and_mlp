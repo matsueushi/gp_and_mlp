{
 "cells": [
  {
   "cell_type": "markdown",
   "metadata": {},
   "source": [
    "# Gaussian Process and Machine Learning"
   ]
  },
  {
   "cell_type": "code",
   "execution_count": 1,
   "metadata": {},
   "outputs": [],
   "source": [
    "using Plots\n",
    "using Printf"
   ]
  },
  {
   "cell_type": "code",
   "execution_count": null,
   "metadata": {},
   "outputs": [],
   "source": [
    "include(\"gp.jl\")"
   ]
  },
  {
   "cell_type": "markdown",
   "metadata": {},
   "source": [
    "## Sampling from 1D Gaussian Process"
   ]
  },
  {
   "cell_type": "code",
   "execution_count": null,
   "metadata": {
    "scrolled": false
   },
   "outputs": [],
   "source": [
    "xs = collect(range(-5, stop = 5, length = 100))\n",
    "\n",
    "gp = GaussianProcess(GaussianKernel(1, 1))\n",
    "Plots.plot(xs, rand(gp, xs, 5), \n",
    "    label = \"\", xlabel = \"x\", ylabel = \"f\",\n",
    "    linewidth = 2,\n",
    "    title = \"Sampling from f ~ GP(0, K)\")"
   ]
  },
  {
   "cell_type": "code",
   "execution_count": null,
   "metadata": {},
   "outputs": [],
   "source": [
    "xx = [1:4, 1:0.5:4, 1:0.2:4]\n",
    "yy = [1, 0.5, 0.2]\n",
    "\n",
    "plts = []\n",
    "for (x, y) in zip(xx, yy)\n",
    "    x1 = collect(x)\n",
    "    n = Base.length(x)\n",
    "    sample = rand(gp, x1)\n",
    "    sample_min = minimum(sample)\n",
    "    sample_plot = scatter(x, sample, label = \"\",\n",
    "            markershape = :utriangle, markercolor = :red,\n",
    "            title = @sprintf(\"Sample, Step=%.1f\", y), titlefontsize = 10)\n",
    "    scatter!(x, fill(sample_min - 0.3, n),\n",
    "        xlims = (0.5, 4.5),\n",
    "        ylims = (sample_min - 0.5, maximum(sample) + 0.5),\n",
    "        markershape = :x, markerstrokewidth = 2,\n",
    "        label = \"\")\n",
    "    push!(plts, sample_plot)\n",
    "    push!(plts, heatmap(x1, x1, cov(gp, x1), \n",
    "            title = \"Covariance matrix\", titlefontsize = 10,\n",
    "            aspect_ratio = :equal, yflip = true, color = cgrad([:white, :blue])))\n",
    "end\n",
    "\n",
    "Plots.plot(plts..., layout = (3, 2), size = [600, 600])"
   ]
  },
  {
   "cell_type": "code",
   "execution_count": null,
   "metadata": {},
   "outputs": [],
   "source": [
    "x1, x2 = 0:0.05:1, 0:0.05:1\n",
    "n1, n2 = Base.length(x1), Base.length(x2)\n",
    "n = n1 * n2\n",
    "pt = permutedims(hcat([[i, j] for i in x1, j in x2]...));"
   ]
  },
  {
   "cell_type": "markdown",
   "metadata": {},
   "source": [
    "## Sampling from 2D Gaussian Process"
   ]
  },
  {
   "cell_type": "code",
   "execution_count": null,
   "metadata": {},
   "outputs": [],
   "source": [
    "sample = rand(gp, pt, 2)\n",
    "\n",
    "plts = []\n",
    "\n",
    "for i in 1:2\n",
    "    z = reshape(sample[:, i], n1, n2)\n",
    "    push!(plts,\n",
    "        surface(x1, x2, z, alpha = 0.8, camera = (40, 60),\n",
    "        linewidth = 2,\n",
    "        framestyle = :grid,\n",
    "        xlabel = \"x1\", ylabel = \"x2\", zlabel = \"f\"))\n",
    "end\n",
    "\n",
    "Plots.plot(plts..., layout = (1, 2), size = [700, 250])"
   ]
  },
  {
   "cell_type": "markdown",
   "metadata": {},
   "source": [
    "## Kernel Types (Linear, Gaussian, Exponential, Periodic)"
   ]
  },
  {
   "cell_type": "code",
   "execution_count": null,
   "metadata": {},
   "outputs": [],
   "source": [
    "xs = collect(range(-5, stop = 5, length = 100))\n",
    "\n",
    "plts = []\n",
    "\n",
    "gp = GaussianProcess(LinearKernel())\n",
    "push!(plts,\n",
    "    Plots.plot(xs, rand(gp, xs, 4), \n",
    "        label = \"\",\n",
    "        linewidth = 2,\n",
    "        title = \"Linear kernel\"))\n",
    "\n",
    "gp = GaussianProcess(GaussianKernel(1, 1))\n",
    "push!(plts,\n",
    "    Plots.plot(xs, rand(gp, xs, 4), \n",
    "        label = \"\",\n",
    "        linewidth = 2,\n",
    "        title = \"Gaussian kernel\"))\n",
    "\n",
    "gp = GaussianProcess(ExponentialKernel(1))\n",
    "push!(plts,\n",
    "    Plots.plot(xs, rand(gp, xs, 4), \n",
    "        label = \"\",\n",
    "        linewidth = 2,\n",
    "        title = \"Exponential kernel\"))\n",
    "\n",
    "gp = GaussianProcess(PeriodicKernel(1.0, 0.5))\n",
    "push!(plts,\n",
    "    Plots.plot(xs, rand(gp, xs, 4), \n",
    "        label = \"\",\n",
    "        linewidth = 2,\n",
    "        title = \"Periodic kernel\"))\n",
    "\n",
    "Plots.plot(plts..., layout = (2, 2), size = [800, 600])"
   ]
  },
  {
   "cell_type": "markdown",
   "metadata": {},
   "source": [
    "## Linear combination"
   ]
  },
  {
   "cell_type": "code",
   "execution_count": null,
   "metadata": {},
   "outputs": [],
   "source": [
    "l_ker = 2.0 * LinearKernel() + 3.0 * PeriodicKernel(1.0, 0.5)\n",
    "\n",
    "gp = GaussianProcess(l_ker)\n",
    "Plots.plot(xs, rand(gp, xs, 5), \n",
    "    label = \"\", xlabel = \"x\", ylabel = \"f\",\n",
    "    linewidth = 2,\n",
    "    title = \"Combination of a linear kernel and a periodic kernel\")"
   ]
  },
  {
   "cell_type": "markdown",
   "metadata": {},
   "source": [
    "## Matérn kernel"
   ]
  },
  {
   "cell_type": "code",
   "execution_count": null,
   "metadata": {},
   "outputs": [],
   "source": [
    "plts = []\n",
    "\n",
    "gp = GaussianProcess(MaternKernel(3/2, 1.))\n",
    "push!(plts,\n",
    "    Plots.plot(xs, rand(gp, xs, 4), \n",
    "        label = \"\",\n",
    "        linewidth = 2,\n",
    "        title = \"Matern3 kernel\"))\n",
    "\n",
    "gp = GaussianProcess(MaternKernel(5/2, 1.))\n",
    "push!(plts,\n",
    "    Plots.plot(xs, rand(gp, xs, 4), \n",
    "        label = \"\",\n",
    "        linewidth = 2,\n",
    "        title = \"Matern5 Kernel\"))\n",
    "\n",
    "Plots.plot(plts..., layout = (1, 2), size = [800, 300])"
   ]
  },
  {
   "cell_type": "markdown",
   "metadata": {},
   "source": [
    "## Gaussian Process Regression"
   ]
  },
  {
   "cell_type": "code",
   "execution_count": null,
   "metadata": {},
   "outputs": [],
   "source": [
    "xs = [1.5, 4, 2, 0.5, 2.3]\n",
    "ys = [1.9, 1, 1.8, 0.8, 2.2]\n",
    "gp = GaussianProcess(GaussianKernel(1, 1))\n",
    "scatter(xs, ys, label = \"\")"
   ]
  },
  {
   "cell_type": "code",
   "execution_count": null,
   "metadata": {},
   "outputs": [],
   "source": [
    "# gpr(gp, [5.0, 3.0], xs, ys)"
   ]
  }
 ],
 "metadata": {
  "kernelspec": {
   "display_name": "Julia 1.1.0",
   "language": "julia",
   "name": "julia-1.1"
  },
  "language_info": {
   "file_extension": ".jl",
   "mimetype": "application/julia",
   "name": "julia",
   "version": "1.1.0"
  }
 },
 "nbformat": 4,
 "nbformat_minor": 2
}
